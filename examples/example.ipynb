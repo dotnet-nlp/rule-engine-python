{
 "cells": [
  {
   "cell_type": "code",
   "execution_count": 1,
   "outputs": [
    {
     "name": "stderr",
     "output_type": "stream",
     "text": [
      "'apt-key' is not recognized as an internal or external command,\n",
      "operable program or batch file.\n",
      "'sudo' is not recognized as an internal or external command,\n",
      "operable program or batch file.\n",
      "'apt-get' is not recognized as an internal or external command,\n",
      "operable program or batch file.\n",
      "'apt-get' is not recognized as an internal or external command,\n",
      "operable program or batch file.\n"
     ]
    }
   ],
   "source": [
    "# install mono\n",
    "!apt-key adv --keyserver hkp://keyserver.ubuntu.com:80 --recv-keys 3FA7E0328081BFF6A14DA29AA6A19B38D3D831EF\n",
    "!echo \"deb https://download.mono-project.com/repo/ubuntu stable-bionic main\" | sudo tee /etc/apt/sources.list.d/mono-official-stable.list\n",
    "!apt-get update\n",
    "!apt-get install -y mono-devel=6.12\\*"
   ],
   "metadata": {
    "collapsed": false,
    "pycharm": {
     "name": "#%%\n"
    }
   }
  },
  {
   "cell_type": "code",
   "execution_count": 2,
   "outputs": [
    {
     "name": "stderr",
     "output_type": "stream",
     "text": [
      "'wget' is not recognized as an internal or external command,\n",
      "operable program or batch file.\n",
      "'dpkg' is not recognized as an internal or external command,\n",
      "operable program or batch file.\n",
      "'rm' is not recognized as an internal or external command,\n",
      "operable program or batch file.\n",
      "'apt-get' is not recognized as an internal or external command,\n",
      "operable program or batch file.\n",
      "'apt-get' is not recognized as an internal or external command,\n",
      "operable program or batch file.\n"
     ]
    }
   ],
   "source": [
    "# install dotnet\n",
    "!wget https://packages.microsoft.com/config/ubuntu/18.04/packages-microsoft-prod.deb\n",
    "!dpkg -i packages-microsoft-prod.deb\n",
    "!rm packages-microsoft-prod.deb\n",
    "!apt-get update\n",
    "!apt-get install -y dotnet-sdk-6.0"
   ],
   "metadata": {
    "collapsed": false,
    "pycharm": {
     "name": "#%%\n"
    }
   }
  },
  {
   "cell_type": "code",
   "execution_count": 3,
   "outputs": [
    {
     "name": "stdout",
     "output_type": "stream",
     "text": [
      "Requirement already satisfied: dotnet_nlp.rule_engine in c:\\users\\vyshkant\\appdata\\local\\programs\\python\\python38\\lib\\site-packages (6.6.6)\n",
      "Requirement already satisfied: pythonnet==3.0.0a2 in c:\\users\\vyshkant\\appdata\\local\\programs\\python\\python38\\lib\\site-packages (from dotnet_nlp.rule_engine) (3.0.0a2)\n",
      "Requirement already satisfied: clr-loader in c:\\users\\vyshkant\\appdata\\local\\programs\\python\\python38\\lib\\site-packages (from pythonnet==3.0.0a2->dotnet_nlp.rule_engine) (0.1.7)\n",
      "Requirement already satisfied: cffi>=1.13 in c:\\users\\vyshkant\\appdata\\local\\programs\\python\\python38\\lib\\site-packages (from clr-loader->pythonnet==3.0.0a2->dotnet_nlp.rule_engine) (1.15.1)\n",
      "Requirement already satisfied: pycparser in c:\\users\\vyshkant\\appdata\\local\\programs\\python\\python38\\lib\\site-packages (from cffi>=1.13->clr-loader->pythonnet==3.0.0a2->dotnet_nlp.rule_engine) (2.21)\n"
     ]
    }
   ],
   "source": [
    "# install Rule Engine package\n",
    "!pip install dotnet_nlp.rule_engine"
   ],
   "metadata": {
    "collapsed": false,
    "pycharm": {
     "name": "#%%\n"
    }
   }
  },
  {
   "cell_type": "code",
   "execution_count": 4,
   "metadata": {
    "pycharm": {
     "name": "#%%\n"
    }
   },
   "outputs": [
    {
     "ename": "ClrError",
     "evalue": "0x80008093: InvalidConfigFile",
     "output_type": "error",
     "traceback": [
      "\u001B[1;31m---------------------------------------------------------------------------\u001B[0m",
      "\u001B[1;31mClrError\u001B[0m                                  Traceback (most recent call last)",
      "Input \u001B[1;32mIn [4]\u001B[0m, in \u001B[0;36m<cell line: 4>\u001B[1;34m()\u001B[0m\n\u001B[0;32m      1\u001B[0m \u001B[38;5;66;03m# initializing dotnet Rule Engine library\u001B[39;00m\n\u001B[0;32m      2\u001B[0m \u001B[38;5;28;01mfrom\u001B[39;00m \u001B[38;5;21;01mdotnet_nlp\u001B[39;00m\u001B[38;5;21;01m.\u001B[39;00m\u001B[38;5;21;01mrule_engine\u001B[39;00m\u001B[38;5;21;01m.\u001B[39;00m\u001B[38;5;21;01mbundle\u001B[39;00m \u001B[38;5;28;01mimport\u001B[39;00m helpers\n\u001B[1;32m----> 4\u001B[0m \u001B[43mhelpers\u001B[49m\u001B[38;5;241;43m.\u001B[39;49m\u001B[43minitialize_and_load\u001B[49m\u001B[43m(\u001B[49m\u001B[43m)\u001B[49m\n",
      "File \u001B[1;32m~\\AppData\\Local\\Programs\\Python\\Python38\\lib\\site-packages\\dotnet_nlp\\rule_engine\\bundle\\helpers.py:18\u001B[0m, in \u001B[0;36minitialize_and_load\u001B[1;34m()\u001B[0m\n\u001B[0;32m     17\u001B[0m \u001B[38;5;28;01mdef\u001B[39;00m \u001B[38;5;21minitialize_and_load\u001B[39m():\n\u001B[1;32m---> 18\u001B[0m     \u001B[43minitialize_pythonnet\u001B[49m\u001B[43m(\u001B[49m\u001B[43m)\u001B[49m\n\u001B[0;32m     19\u001B[0m     load_rule_engine()\n",
      "File \u001B[1;32m~\\AppData\\Local\\Programs\\Python\\Python38\\lib\\site-packages\\dotnet_nlp\\rule_engine\\bundle\\helpers.py:7\u001B[0m, in \u001B[0;36minitialize_pythonnet\u001B[1;34m()\u001B[0m\n\u001B[0;32m      5\u001B[0m \u001B[38;5;28;01mfrom\u001B[39;00m \u001B[38;5;21;01mclr_loader\u001B[39;00m \u001B[38;5;28;01mimport\u001B[39;00m get_coreclr\n\u001B[0;32m      6\u001B[0m \u001B[38;5;28;01mfrom\u001B[39;00m \u001B[38;5;21;01mpythonnet\u001B[39;00m \u001B[38;5;28;01mimport\u001B[39;00m set_runtime\n\u001B[1;32m----> 7\u001B[0m set_runtime(\u001B[43mget_coreclr\u001B[49m\u001B[43m(\u001B[49m\u001B[38;5;124;43m\"\u001B[39;49m\u001B[38;5;124;43m../runtimeconfig.json\u001B[39;49m\u001B[38;5;124;43m\"\u001B[39;49m\u001B[43m)\u001B[49m)\n",
      "File \u001B[1;32m~\\AppData\\Local\\Programs\\Python\\Python38\\lib\\site-packages\\clr_loader\\__init__.py:44\u001B[0m, in \u001B[0;36mget_coreclr\u001B[1;34m(runtime_config, dotnet_root, properties)\u001B[0m\n\u001B[0;32m     41\u001B[0m \u001B[38;5;28;01mif\u001B[39;00m dotnet_root \u001B[38;5;129;01mis\u001B[39;00m \u001B[38;5;28;01mNone\u001B[39;00m:\n\u001B[0;32m     42\u001B[0m     dotnet_root \u001B[38;5;241m=\u001B[39m find_dotnet_root()\n\u001B[1;32m---> 44\u001B[0m impl \u001B[38;5;241m=\u001B[39m \u001B[43mDotnetCoreRuntime\u001B[49m\u001B[43m(\u001B[49m\u001B[43mruntime_config\u001B[49m\u001B[38;5;241;43m=\u001B[39;49m\u001B[43mruntime_config\u001B[49m\u001B[43m,\u001B[49m\u001B[43m \u001B[49m\u001B[43mdotnet_root\u001B[49m\u001B[38;5;241;43m=\u001B[39;49m\u001B[43mdotnet_root\u001B[49m\u001B[43m)\u001B[49m\n\u001B[0;32m     45\u001B[0m \u001B[38;5;28;01mif\u001B[39;00m properties:\n\u001B[0;32m     46\u001B[0m     \u001B[38;5;28;01mfor\u001B[39;00m key, value \u001B[38;5;129;01min\u001B[39;00m properties\u001B[38;5;241m.\u001B[39mitems():\n",
      "File \u001B[1;32m~\\AppData\\Local\\Programs\\Python\\Python38\\lib\\site-packages\\clr_loader\\hostfxr.py:15\u001B[0m, in \u001B[0;36mDotnetCoreRuntime.__init__\u001B[1;34m(self, runtime_config, dotnet_root)\u001B[0m\n\u001B[0;32m     13\u001B[0m \u001B[38;5;28mself\u001B[39m\u001B[38;5;241m.\u001B[39m_dll \u001B[38;5;241m=\u001B[39m load_hostfxr(\u001B[38;5;28mself\u001B[39m\u001B[38;5;241m.\u001B[39m_dotnet_root)\n\u001B[0;32m     14\u001B[0m \u001B[38;5;28mself\u001B[39m\u001B[38;5;241m.\u001B[39m_is_finalized \u001B[38;5;241m=\u001B[39m \u001B[38;5;28;01mFalse\u001B[39;00m\n\u001B[1;32m---> 15\u001B[0m \u001B[38;5;28mself\u001B[39m\u001B[38;5;241m.\u001B[39m_handle \u001B[38;5;241m=\u001B[39m \u001B[43m_get_handle\u001B[49m\u001B[43m(\u001B[49m\u001B[38;5;28;43mself\u001B[39;49m\u001B[38;5;241;43m.\u001B[39;49m\u001B[43m_dll\u001B[49m\u001B[43m,\u001B[49m\u001B[43m \u001B[49m\u001B[38;5;28;43mself\u001B[39;49m\u001B[38;5;241;43m.\u001B[39;49m\u001B[43m_dotnet_root\u001B[49m\u001B[43m,\u001B[49m\u001B[43m \u001B[49m\u001B[43mruntime_config\u001B[49m\u001B[43m)\u001B[49m\n\u001B[0;32m     16\u001B[0m \u001B[38;5;28mself\u001B[39m\u001B[38;5;241m.\u001B[39m_load_func \u001B[38;5;241m=\u001B[39m _get_load_func(\u001B[38;5;28mself\u001B[39m\u001B[38;5;241m.\u001B[39m_dll, \u001B[38;5;28mself\u001B[39m\u001B[38;5;241m.\u001B[39m_handle)\n",
      "File \u001B[1;32m~\\AppData\\Local\\Programs\\Python\\Python38\\lib\\site-packages\\clr_loader\\hostfxr.py:104\u001B[0m, in \u001B[0;36m_get_handle\u001B[1;34m(dll, dotnet_root, runtime_config)\u001B[0m\n\u001B[0;32m     99\u001B[0m handle_ptr \u001B[38;5;241m=\u001B[39m ffi\u001B[38;5;241m.\u001B[39mnew(\u001B[38;5;124m\"\u001B[39m\u001B[38;5;124mhostfxr_handle*\u001B[39m\u001B[38;5;124m\"\u001B[39m)\n\u001B[0;32m    101\u001B[0m res \u001B[38;5;241m=\u001B[39m dll\u001B[38;5;241m.\u001B[39mhostfxr_initialize_for_runtime_config(\n\u001B[0;32m    102\u001B[0m     encode(runtime_config), params, handle_ptr\n\u001B[0;32m    103\u001B[0m )\n\u001B[1;32m--> 104\u001B[0m \u001B[43mcheck_result\u001B[49m\u001B[43m(\u001B[49m\u001B[43mres\u001B[49m\u001B[43m)\u001B[49m\n\u001B[0;32m    106\u001B[0m \u001B[38;5;28;01mreturn\u001B[39;00m handle_ptr[\u001B[38;5;241m0\u001B[39m]\n",
      "File \u001B[1;32m~\\AppData\\Local\\Programs\\Python\\Python38\\lib\\site-packages\\clr_loader\\util\\__init__.py:26\u001B[0m, in \u001B[0;36mcheck_result\u001B[1;34m(err_code)\u001B[0m\n\u001B[0;32m     23\u001B[0m \u001B[38;5;28;01mif\u001B[39;00m \u001B[38;5;129;01mnot\u001B[39;00m error:\n\u001B[0;32m     24\u001B[0m     error \u001B[38;5;241m=\u001B[39m ClrError(hresult)\n\u001B[1;32m---> 26\u001B[0m \u001B[38;5;28;01mraise\u001B[39;00m error\n",
      "\u001B[1;31mClrError\u001B[0m: 0x80008093: InvalidConfigFile"
     ]
    }
   ],
   "source": [
    "# initializing dotnet Rule Engine library\n",
    "from dotnet_nlp.rule_engine.bundle import helpers\n",
    "\n",
    "helpers.initialize_and_load()"
   ]
  },
  {
   "cell_type": "code",
   "execution_count": null,
   "metadata": {
    "pycharm": {
     "name": "#%%\n"
    }
   },
   "outputs": [],
   "source": [
    "# creating rule space using wrappers approach\n",
    "from dotnet_nlp.rule_engine.bundle import wrappers\n",
    "\n",
    "rule_space_wrapper = wrappers.RuleSpaceWrapper(\n",
    "    rule_sets = {\n",
    "        \"number\": {\n",
    "            \"\"\"\n",
    "using DotnetNlp.RuleEngine.Bundle;\n",
    "\n",
    "int Root = peg#($Number:n)# { return n; }\n",
    "int Number = peg#($Number_0:n_0|$Number_1:n_1|$Number_2:n_2|$Number_3:n_3|$Number_4:n_4|$Number_5:n_5|$Number_6:n_6|$Number_7:n_7|$Number_8:n_8|$Number_9:n_9)# { return Pick.OneOf(n_0, n_1, n_2, n_3, n_4, n_5, n_6, n_7, n_8, n_9); }\n",
    "int Number_0 = peg#(zero|null)# => 0\n",
    "int Number_1 = peg#(one)# => 1\n",
    "int Number_2 = peg#(two)# => 2\n",
    "int Number_3 = peg#(three)# => 3\n",
    "int Number_4 = peg#(four)# => 4\n",
    "int Number_5 = peg#(five)# => 5\n",
    "int Number_6 = peg#(six)# => 6\n",
    "int Number_7 = peg#(seven)# => 7\n",
    "int Number_8 = peg#(eight)# => 8\n",
    "int Number_9 = peg#(nine)# => 9\n",
    "    \"\"\",\n",
    "        }\n",
    "    },\n",
    "    rules = {\n",
    "        \"hi\": \"(hi|hello|good [morning day afternoon evening])\",\n",
    "    }\n",
    ")"
   ]
  },
  {
   "cell_type": "code",
   "execution_count": null,
   "metadata": {
    "pycharm": {
     "name": "#%%\n"
    }
   },
   "outputs": [],
   "source": [
    "# using has_match method to determine if the match was successful\n",
    "is_greeting = rule_space_wrapper[\"hi\"].has_match(\"good afternoon\")\n",
    "\n",
    "# is_greeting is going to be equal to True\n",
    "print(is_greeting)"
   ]
  },
  {
   "cell_type": "code",
   "execution_count": null,
   "outputs": [],
   "source": [
    "# the same matcher is available under the keys: \"number\", \"number.Number\", \"number.Root\"\n",
    "# using match_and_project method to get the resulting number\n",
    "results = rule_space_wrapper[\"number\"].match_and_project(\"one\")\n",
    "\n",
    "# results.Single().Result.Value is equal to integer 1\n",
    "print(results.Single().Result.Value)"
   ],
   "metadata": {
    "collapsed": false,
    "pycharm": {
     "name": "#%%\n"
    }
   }
  }
 ],
 "metadata": {
  "kernelspec": {
   "display_name": "Python 3 (ipykernel)",
   "language": "python",
   "name": "python3"
  },
  "language_info": {
   "codemirror_mode": {
    "name": "ipython",
    "version": 3
   },
   "file_extension": ".py",
   "mimetype": "text/x-python",
   "name": "python",
   "nbconvert_exporter": "python",
   "pygments_lexer": "ipython3",
   "version": "3.8.0"
  }
 },
 "nbformat": 4,
 "nbformat_minor": 1
}