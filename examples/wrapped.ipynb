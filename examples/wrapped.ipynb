{
 "cells": [
  {
   "cell_type": "code",
   "execution_count": null,
   "outputs": [],
   "source": [
    "# install mono\n",
    "!apt-key adv --keyserver hkp://keyserver.ubuntu.com:80 --recv-keys 3FA7E0328081BFF6A14DA29AA6A19B38D3D831EF\n",
    "!echo \"deb https://download.mono-project.com/repo/ubuntu stable-bionic main\" | sudo tee /etc/apt/sources.list.d/mono-official-stable.list\n",
    "!apt-get update\n",
    "!apt-get install -y mono-devel=6.12\\*"
   ],
   "metadata": {
    "collapsed": false,
    "pycharm": {
     "name": "#%%\n"
    }
   }
  },
  {
   "cell_type": "code",
   "execution_count": null,
   "outputs": [],
   "source": [
    "# install dotnet\n",
    "!wget https://packages.microsoft.com/config/ubuntu/18.04/packages-microsoft-prod.deb\n",
    "!dpkg -i packages-microsoft-prod.deb\n",
    "!rm packages-microsoft-prod.deb\n",
    "!apt-get update\n",
    "!apt-get install -y dotnet-sdk-6.0"
   ],
   "metadata": {
    "collapsed": false,
    "pycharm": {
     "name": "#%%\n"
    }
   }
  },
  {
   "cell_type": "code",
   "execution_count": null,
   "outputs": [],
   "source": [
    "# install Rule Engine package\n",
    "!pip install --upgrade dotnet_nlp.rule_engine"
   ],
   "metadata": {
    "collapsed": false,
    "pycharm": {
     "name": "#%%\n",
     "is_executing": true
    }
   }
  },
  {
   "cell_type": "code",
   "execution_count": null,
   "metadata": {
    "pycharm": {
     "is_executing": true,
     "name": "#%%\n"
    }
   },
   "outputs": [],
   "source": [
    "# initializing dotnet Rule Engine library\n",
    "from dotnet_nlp.rule_engine.bundle import helpers\n",
    "\n",
    "helpers.initialize_and_load()"
   ]
  },
  {
   "cell_type": "code",
   "execution_count": null,
   "metadata": {
    "pycharm": {
     "name": "#%%\n"
    }
   },
   "outputs": [],
   "source": [
    "# creating rule space using wrappers approach\n",
    "from dotnet_nlp.rule_engine.bundle import wrappers\n",
    "\n",
    "rule_space_wrapper = wrappers.RuleSpaceWrapper(\n",
    "    rule_sets = {\n",
    "        \"number\": {\n",
    "            \"\"\"\n",
    "using DotnetNlp.RuleEngine.Bundle;\n",
    "\n",
    "int Root = peg#($Number:n)# { return n; }\n",
    "int Number = peg#($Number_0:n_0|$Number_1:n_1|$Number_2:n_2|$Number_3:n_3|$Number_4:n_4|$Number_5:n_5|$Number_6:n_6|$Number_7:n_7|$Number_8:n_8|$Number_9:n_9)# { return Pick.OneOf(n_0, n_1, n_2, n_3, n_4, n_5, n_6, n_7, n_8, n_9); }\n",
    "int Number_0 = peg#(zero|null)# => 0\n",
    "int Number_1 = peg#(one)# => 1\n",
    "int Number_2 = peg#(two)# => 2\n",
    "int Number_3 = peg#(three)# => 3\n",
    "int Number_4 = peg#(four)# => 4\n",
    "int Number_5 = peg#(five)# => 5\n",
    "int Number_6 = peg#(six)# => 6\n",
    "int Number_7 = peg#(seven)# => 7\n",
    "int Number_8 = peg#(eight)# => 8\n",
    "int Number_9 = peg#(nine)# => 9\n",
    "    \"\"\",\n",
    "        }\n",
    "    },\n",
    "    rules = {\n",
    "        \"hi\": \"(hi|hello|good [morning day afternoon evening])\",\n",
    "    }\n",
    ")"
   ]
  },
  {
   "cell_type": "code",
   "execution_count": null,
   "metadata": {
    "pycharm": {
     "name": "#%%\n"
    }
   },
   "outputs": [],
   "source": [
    "# using HasMatch method to determine if the match was successful\n",
    "is_greeting = rule_space_wrapper[\"hi\"].has_match(\"good afternoon\")\n",
    "\n",
    "# is_greeting is going to be equal to True\n",
    "print(is_greeting)"
   ]
  },
  {
   "cell_type": "code",
   "execution_count": null,
   "outputs": [],
   "source": [
    "# the same matcher is available under the keys: \"number\", \"number.Number\", \"number.Root\"\n",
    "# using MatchAndProject method to get the resulting number\n",
    "results = rule_space_wrapper[\"number\"].match_and_project(\"one\")\n",
    "\n",
    "# results.Single().Result.Value is equal to integer 1\n",
    "print(results.Single().Result.Value)"
   ],
   "metadata": {
    "collapsed": false,
    "pycharm": {
     "name": "#%%\n"
    }
   }
  }
 ],
 "metadata": {
  "kernelspec": {
   "display_name": "Python 3 (ipykernel)",
   "language": "python",
   "name": "python3"
  },
  "language_info": {
   "codemirror_mode": {
    "name": "ipython",
    "version": 3
   },
   "file_extension": ".py",
   "mimetype": "text/x-python",
   "name": "python",
   "nbconvert_exporter": "python",
   "pygments_lexer": "ipython3",
   "version": "3.8.0"
  }
 },
 "nbformat": 4,
 "nbformat_minor": 1
}