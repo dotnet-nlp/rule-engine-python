{
 "cells": [
  {
   "cell_type": "code",
   "execution_count": 1,
   "metadata": {
    "pycharm": {
     "is_executing": true,
     "name": "#%%\n"
    }
   },
   "outputs": [
    {
     "ename": "RuntimeError",
     "evalue": "Can not determine dotnet root",
     "output_type": "error",
     "traceback": [
      "\u001B[0;31m---------------------------------------------------------------------------\u001B[0m",
      "\u001B[0;31mRuntimeError\u001B[0m                              Traceback (most recent call last)",
      "Input \u001B[0;32mIn [1]\u001B[0m, in \u001B[0;36m<cell line: 4>\u001B[0;34m()\u001B[0m\n\u001B[1;32m      1\u001B[0m \u001B[38;5;66;03m# initializing dotnet library\u001B[39;00m\n\u001B[1;32m      2\u001B[0m \u001B[38;5;28;01mfrom\u001B[39;00m \u001B[38;5;21;01mdotnet_nlp\u001B[39;00m\u001B[38;5;21;01m.\u001B[39;00m\u001B[38;5;21;01mrule_engine\u001B[39;00m\u001B[38;5;21;01m.\u001B[39;00m\u001B[38;5;21;01mbundle\u001B[39;00m \u001B[38;5;28;01mimport\u001B[39;00m helpers\n\u001B[0;32m----> 4\u001B[0m \u001B[43mhelpers\u001B[49m\u001B[38;5;241;43m.\u001B[39;49m\u001B[43minitialize_and_load\u001B[49m\u001B[43m(\u001B[49m\u001B[43m)\u001B[49m\n",
      "File \u001B[0;32m~/.local/lib/python3.9/site-packages/dotnet_nlp/rule_engine/bundle/helpers.py:18\u001B[0m, in \u001B[0;36minitialize_and_load\u001B[0;34m()\u001B[0m\n\u001B[1;32m     17\u001B[0m \u001B[38;5;28;01mdef\u001B[39;00m \u001B[38;5;21minitialize_and_load\u001B[39m():\n\u001B[0;32m---> 18\u001B[0m     \u001B[43minitialize_pythonnet\u001B[49m\u001B[43m(\u001B[49m\u001B[43m)\u001B[49m\n\u001B[1;32m     19\u001B[0m     load_rule_engine()\n",
      "File \u001B[0;32m~/.local/lib/python3.9/site-packages/dotnet_nlp/rule_engine/bundle/helpers.py:7\u001B[0m, in \u001B[0;36minitialize_pythonnet\u001B[0;34m()\u001B[0m\n\u001B[1;32m      5\u001B[0m \u001B[38;5;28;01mfrom\u001B[39;00m \u001B[38;5;21;01mclr_loader\u001B[39;00m \u001B[38;5;28;01mimport\u001B[39;00m get_coreclr\n\u001B[1;32m      6\u001B[0m \u001B[38;5;28;01mfrom\u001B[39;00m \u001B[38;5;21;01mpythonnet\u001B[39;00m \u001B[38;5;28;01mimport\u001B[39;00m set_runtime\n\u001B[0;32m----> 7\u001B[0m set_runtime(\u001B[43mget_coreclr\u001B[49m\u001B[43m(\u001B[49m\u001B[38;5;124;43m\"\u001B[39;49m\u001B[38;5;124;43m../runtimeconfig.json\u001B[39;49m\u001B[38;5;124;43m\"\u001B[39;49m\u001B[43m)\u001B[49m)\n",
      "File \u001B[0;32m~/.local/lib/python3.9/site-packages/clr_loader/__init__.py:42\u001B[0m, in \u001B[0;36mget_coreclr\u001B[0;34m(runtime_config, dotnet_root, properties)\u001B[0m\n\u001B[1;32m     39\u001B[0m \u001B[38;5;28;01mfrom\u001B[39;00m \u001B[38;5;21;01m.\u001B[39;00m\u001B[38;5;21;01mhostfxr\u001B[39;00m \u001B[38;5;28;01mimport\u001B[39;00m DotnetCoreRuntime\n\u001B[1;32m     41\u001B[0m \u001B[38;5;28;01mif\u001B[39;00m dotnet_root \u001B[38;5;129;01mis\u001B[39;00m \u001B[38;5;28;01mNone\u001B[39;00m:\n\u001B[0;32m---> 42\u001B[0m     dotnet_root \u001B[38;5;241m=\u001B[39m \u001B[43mfind_dotnet_root\u001B[49m\u001B[43m(\u001B[49m\u001B[43m)\u001B[49m\n\u001B[1;32m     44\u001B[0m impl \u001B[38;5;241m=\u001B[39m DotnetCoreRuntime(runtime_config\u001B[38;5;241m=\u001B[39mruntime_config, dotnet_root\u001B[38;5;241m=\u001B[39mdotnet_root)\n\u001B[1;32m     45\u001B[0m \u001B[38;5;28;01mif\u001B[39;00m properties:\n",
      "File \u001B[0;32m~/.local/lib/python3.9/site-packages/clr_loader/util/find.py:22\u001B[0m, in \u001B[0;36mfind_dotnet_root\u001B[0;34m()\u001B[0m\n\u001B[1;32m     20\u001B[0m dotnet_path \u001B[38;5;241m=\u001B[39m shutil\u001B[38;5;241m.\u001B[39mwhich(\u001B[38;5;124m\"\u001B[39m\u001B[38;5;124mdotnet\u001B[39m\u001B[38;5;124m\"\u001B[39m)\n\u001B[1;32m     21\u001B[0m \u001B[38;5;28;01mif\u001B[39;00m \u001B[38;5;129;01mnot\u001B[39;00m dotnet_path:\n\u001B[0;32m---> 22\u001B[0m     \u001B[38;5;28;01mraise\u001B[39;00m \u001B[38;5;167;01mRuntimeError\u001B[39;00m(\u001B[38;5;124m\"\u001B[39m\u001B[38;5;124mCan not determine dotnet root\u001B[39m\u001B[38;5;124m\"\u001B[39m)\n\u001B[1;32m     24\u001B[0m \u001B[38;5;28;01mtry\u001B[39;00m:\n\u001B[1;32m     25\u001B[0m     \u001B[38;5;66;03m# Pypy does not provide os.readlink right now\u001B[39;00m\n\u001B[1;32m     26\u001B[0m     \u001B[38;5;28;01mif\u001B[39;00m \u001B[38;5;28mhasattr\u001B[39m(os, \u001B[38;5;124m\"\u001B[39m\u001B[38;5;124mreadlink\u001B[39m\u001B[38;5;124m\"\u001B[39m):\n",
      "\u001B[0;31mRuntimeError\u001B[0m: Can not determine dotnet root"
     ]
    }
   ],
   "source": [
    "# initializing dotnet library\n",
    "from dotnet_nlp.rule_engine.bundle import helpers\n",
    "\n",
    "helpers.initialize_and_load()"
   ]
  },
  {
   "cell_type": "code",
   "execution_count": null,
   "metadata": {
    "pycharm": {
     "name": "#%%\n"
    }
   },
   "outputs": [],
   "source": [
    "# initializing dotnet library\n",
    "from dotnet_nlp.rule_engine.bundle import RuleSpaceWrapper\n",
    "\n",
    "rule_space_wrapper = RuleSpaceWrapper(\n",
    "    rule_sets = {\n",
    "        \"number\": {\n",
    "            \"\"\"\n",
    "using DotnetNlp.RuleEngine.Bundle;\n",
    "\n",
    "int Root = peg#($Number:n)# { return n; }\n",
    "int Number = peg#($Number_0:n_0|$Number_1:n_1|$Number_2:n_2|$Number_3:n_3|$Number_4:n_4|$Number_5:n_5|$Number_6:n_6|$Number_7:n_7|$Number_8:n_8|$Number_9:n_9)# { return Pick.OneOf(n_0, n_1, n_2, n_3, n_4, n_5, n_6, n_7, n_8, n_9); }\n",
    "int Number_0 = peg#(zero|null)# => 0\n",
    "int Number_1 = peg#(one)# => 1\n",
    "int Number_2 = peg#(two)# => 2\n",
    "int Number_3 = peg#(three)# => 3\n",
    "int Number_4 = peg#(four)# => 4\n",
    "int Number_5 = peg#(five)# => 5\n",
    "int Number_6 = peg#(six)# => 6\n",
    "int Number_7 = peg#(seven)# => 7\n",
    "int Number_8 = peg#(eight)# => 8\n",
    "int Number_9 = peg#(nine)# => 9\n",
    "    \"\"\"\n",
    "        }\n",
    "    },\n",
    "    rules = {\n",
    "        \"hi\": \"(hi|hello|good [morning day afternoon evening])\"\n",
    "    }\n",
    ")"
   ]
  },
  {
   "cell_type": "code",
   "execution_count": null,
   "metadata": {
    "pycharm": {
     "name": "#%%\n"
    }
   },
   "outputs": [],
   "source": [
    "# using HasMatch method to determine if the match was successful\n",
    "is_greeting = rule_space_wrapper[\"hi\"].has_match(\"good afternoon\")\n",
    "\n",
    "# is_greeting is going to be equal to True\n",
    "print(is_greeting)"
   ]
  },
  {
   "cell_type": "code",
   "execution_count": null,
   "outputs": [],
   "source": [
    "# the same matcher is available under the keys: \"number\", \"number.Number\", \"number.Root\"\n",
    "# using MatchAndProject method to get the resulting number\n",
    "results = rule_space_wrapper[\"number\"].match_and_project(\"one\"\n",
    "                                                         )\n",
    "# results.Single().Result.Value is equal to integer 1\n",
    "print(results.Single().Result.Value)"
   ],
   "metadata": {
    "collapsed": false,
    "pycharm": {
     "name": "#%%\n"
    }
   }
  }
 ],
 "metadata": {
  "kernelspec": {
   "display_name": "Python 3 (ipykernel)",
   "language": "python",
   "name": "python3"
  },
  "language_info": {
   "codemirror_mode": {
    "name": "ipython",
    "version": 3
   },
   "file_extension": ".py",
   "mimetype": "text/x-python",
   "name": "python",
   "nbconvert_exporter": "python",
   "pygments_lexer": "ipython3",
   "version": "3.8.0"
  }
 },
 "nbformat": 4,
 "nbformat_minor": 1
}