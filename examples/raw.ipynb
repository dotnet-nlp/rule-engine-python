{
 "cells": [
  {
   "cell_type": "code",
   "execution_count": null,
   "metadata": {
    "collapsed": true,
    "pycharm": {
     "name": "#%%\n"
    }
   },
   "outputs": [],
   "source": [
    "# initializing dotnet library\n",
    "from dotnet_nlp.rule_engine.bundle import helpers\n",
    "helpers.initialize_and_load()\n",
    "\n",
    "# there are also two different methods for initialization of pythonnet and loading DotnetNlp.RuleEngine.Bundle library, for case the pythonnet is already initialized:\n",
    "# helpers.initialize_pythonnet()\n",
    "# helpers.load_rule_engine()"
   ]
  },
  {
   "cell_type": "code",
   "execution_count": null,
   "metadata": {
    "pycharm": {
     "name": "#%%\n"
    }
   },
   "outputs": [],
   "source": [
    "# loading dotnet libraries to create rule space\n",
    "from DotnetNlp.RuleEngine.Bundle import Factory\n",
    "from DotnetNlp.RuleEngine.Core.Evaluation.Cache import RuleSpaceCache\n",
    "from DotnetNlp.RuleEngine.Core.Evaluation.Rule.Input import RuleInput\n",
    "from DotnetNlp.RuleEngine.Core.Evaluation.Rule.Projection.Arguments import RuleArguments"
   ]
  },
  {
   "cell_type": "code",
   "execution_count": null,
   "metadata": {
    "pycharm": {
     "name": "#%%\n"
    }
   },
   "outputs": [],
   "source": [
    "rule_space = Factory.Create(\n",
    "    ruleSets = {\n",
    "        \"number\": {\n",
    "            \"\"\"\n",
    "using DotnetNlp.RuleEngine.Bundle;\n",
    "\n",
    "int Root = peg#($Number:n)# { return n; }\n",
    "int Number = peg#($Number_0:n_0|$Number_1:n_1|$Number_2:n_2|$Number_3:n_3|$Number_4:n_4|$Number_5:n_5|$Number_6:n_6|$Number_7:n_7|$Number_8:n_8|$Number_9:n_9)# { return Pick.OneOf(n_0, n_1, n_2, n_3, n_4, n_5, n_6, n_7, n_8, n_9); }\n",
    "int Number_0 = peg#(zero|null)# => 0\n",
    "int Number_1 = peg#(one)# => 1\n",
    "int Number_2 = peg#(two)# => 2\n",
    "int Number_3 = peg#(three)# => 3\n",
    "int Number_4 = peg#(four)# => 4\n",
    "int Number_5 = peg#(five)# => 5\n",
    "int Number_6 = peg#(six)# => 6\n",
    "int Number_7 = peg#(seven)# => 7\n",
    "int Number_8 = peg#(eight)# => 8\n",
    "int Number_9 = peg#(nine)# => 9\n",
    "    \"\"\"\n",
    "        }\n",
    "    },\n",
    "    rules = {\n",
    "        \"hi\": \"(hi|hello|good [morning day afternoon evening])\"\n",
    "    }\n",
    ")\n",
    "\n",
    "# using HasMatch method to determine if the match was successful\n",
    "is_greeting = rule_space[\"hi\"].HasMatch(\n",
    "    RuleInput(\n",
    "        [\"good\", \"afternoon\"],\n",
    "        RuleSpaceArguments.Empty\n",
    "    ),\n",
    "    0,\n",
    "    RuleSpaceCache()\n",
    ")\n",
    "# is_greeting is going to be equal to True\n",
    "\n",
    "\n",
    "# the same matcher is available under the keys: \"number\", \"number.Number\", \"number.Root\"\n",
    "# using MatchAndProject method to get the resulting number\n",
    "results = rule_space[\"number\"].MatchAndProject(\n",
    "    RuleInput(\n",
    "        [\"one\"],\n",
    "        RuleSpaceArguments.Empty\n",
    "    ),\n",
    "    0,\n",
    "    RuleArguments.Empty,\n",
    "    RuleSpaceCache()\n",
    ")\n",
    "# results.Single().Result.Value is equal to integer 1"
   ]
  }
 ],
 "metadata": {
  "kernelspec": {
   "display_name": "Python 3 (ipykernel)",
   "language": "python",
   "name": "python3"
  },
  "language_info": {
   "codemirror_mode": {
    "name": "ipython",
    "version": 3
   },
   "file_extension": ".py",
   "mimetype": "text/x-python",
   "name": "python",
   "nbconvert_exporter": "python",
   "pygments_lexer": "ipython3",
   "version": "3.9.6"
  }
 },
 "nbformat": 4,
 "nbformat_minor": 1
}